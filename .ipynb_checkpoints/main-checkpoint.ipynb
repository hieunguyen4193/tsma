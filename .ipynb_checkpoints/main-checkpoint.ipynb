{
 "cells": [
  {
   "cell_type": "code",
   "execution_count": 1,
   "metadata": {
    "scrolled": true
   },
   "outputs": [
    {
     "name": "stdout",
     "output_type": "stream",
     "text": [
      "Number of bam files in this location: 135\n"
     ]
    },
    {
     "name": "stderr",
     "output_type": "stream",
     "text": [
      "  0%|                                                   | 0/135 [00:00<?, ?it/s]"
     ]
    },
    {
     "name": "stdout",
     "output_type": "stream",
     "text": [
      "Fetching reads from file ZNB20B.deduplicated.sorted.bam\n",
      "Fetching reads from file 14-ZNL10SME131W_M562-M762.deduplicated.sorted.bam\n",
      "Fetching reads from file 1-ZMG052R3W_M580-M780.deduplicated.sorted.bam\n"
     ]
    },
    {
     "name": "stderr",
     "output_type": "stream",
     "text": [
      "  2%|▉                                          | 3/135 [00:05<04:11,  1.90s/it]"
     ]
    },
    {
     "name": "stdout",
     "output_type": "stream",
     "text": [
      "Fetching reads from file ZNL07B.deduplicated.sorted.bam\n",
      "Fetching reads from file ZNB12B.deduplicated.sorted.bam\n",
      "Fetching reads from file 1-L12282R1ME131W_M543-M743.deduplicated.sorted.bam\n"
     ]
    },
    {
     "name": "stderr",
     "output_type": "stream",
     "text": [
      "  7%|███                                       | 10/135 [00:06<00:54,  2.31it/s]"
     ]
    },
    {
     "name": "stdout",
     "output_type": "stream",
     "text": [
      "Fetching reads from file 1-ZNB44SR1ME131W_M514-M714.deduplicated.sorted.bam\n",
      "Fetching reads from file ZNB44B.deduplicated.sorted.bam\n",
      "Fetching reads from file ZNB22B.deduplicated.sorted.bam\n",
      "Fetching reads from file 1-LBG15R1ME134W_M568-M768.deduplicated.sorted.bam\n",
      "Fetching reads from file 2-ZNL17SME131W_M502-M702.deduplicated.sorted.bam\n"
     ]
    },
    {
     "name": "stderr",
     "output_type": "stream",
     "text": [
      "  9%|███▋                                      | 12/135 [00:06<00:46,  2.62it/s]"
     ]
    },
    {
     "name": "stdout",
     "output_type": "stream",
     "text": [
      "Fetching reads from file ZMH048S.deduplicated.sorted.bam\n",
      "Fetching reads from file ZMG051S.deduplicated.sorted.bam\n",
      "Fetching reads from file 7-ZNB07SME131W_M555-M755.deduplicated.sorted.bam\n"
     ]
    },
    {
     "name": "stderr",
     "output_type": "stream",
     "text": [
      " 10%|████▎                                     | 14/135 [00:11<01:54,  1.06it/s][W::hts_idx_load3] The index file is older than the data file: /mnt/archiving/DATA_HIEUNHO/GW-bismark_cfDNA-highdepth_pair-end/04_bismark_deduplicated_sorted/K0706POOL.deduplicated.sorted.bam.bai\n"
     ]
    },
    {
     "name": "stdout",
     "output_type": "stream",
     "text": [
      "Fetching reads from file K0706POOL.deduplicated.sorted.bam\n"
     ]
    },
    {
     "name": "stderr",
     "output_type": "stream",
     "text": [
      " 11%|████▋                                     | 15/135 [00:15<02:53,  1.45s/it][W::hts_idx_load3] The index file is older than the data file: /mnt/archiving/DATA_HIEUNHO/GW-bismark_cfDNA-highdepth_pair-end/04_bismark_deduplicated_sorted/K0946POOL.deduplicated.sorted.bam.bai\n",
      " 13%|█████▎                                    | 17/135 [00:15<01:58,  1.00s/it]"
     ]
    },
    {
     "name": "stdout",
     "output_type": "stream",
     "text": [
      "Fetching reads from file ZNB27B.deduplicated.sorted.bam\n",
      "Fetching reads from file K0946POOL.deduplicated.sorted.bam\n",
      "Fetching reads from file ZMG063S.deduplicated.sorted.bam\n"
     ]
    },
    {
     "name": "stderr",
     "output_type": "stream",
     "text": [
      " 13%|█████▌                                    | 18/135 [00:18<02:35,  1.33s/it][W::hts_idx_load3] The index file is older than the data file: /mnt/archiving/DATA_HIEUNHO/GW-bismark_cfDNA-highdepth_pair-end/04_bismark_deduplicated_sorted/K0057POOL.deduplicated.sorted.bam.bai\n",
      " 14%|█████▉                                    | 19/135 [00:18<02:04,  1.08s/it]"
     ]
    },
    {
     "name": "stdout",
     "output_type": "stream",
     "text": [
      "Fetching reads from file K0057POOL.deduplicated.sorted.bam\n",
      "Fetching reads from file 1-L12008R1ME131W_M505-M705.deduplicated.sorted.bam\n",
      "Fetching reads from file ZMG053S.deduplicated.sorted.bam\n"
     ]
    },
    {
     "name": "stderr",
     "output_type": "stream",
     "text": [
      " 19%|████████                                  | 26/135 [00:18<00:36,  3.00it/s]"
     ]
    },
    {
     "name": "stdout",
     "output_type": "stream",
     "text": [
      "Fetching reads from file 4-ZMC063R3W_M579-M779.deduplicated.sorted.bam\n",
      "Fetching reads from file ZNB03SR2.deduplicated.sorted.bam\n",
      "Fetching reads from file 34-ZMG051R2ME131W_S7530-S7730.deduplicated.sorted.bam\n",
      "Fetching reads from file 4-ZMC061ME131W_M507-M707.deduplicated.sorted.bam\n",
      "Fetching reads from file ZMG059S.deduplicated.sorted.bam\n",
      "Fetching reads from file ZNC04S.deduplicated.sorted.bam\n",
      "Fetching reads from file ZNL09B.deduplicated.sorted.bam\n"
     ]
    },
    {
     "name": "stderr",
     "output_type": "stream",
     "text": [
      " 24%|█████████▉                                | 32/135 [00:19<00:17,  6.00it/s]"
     ]
    },
    {
     "name": "stdout",
     "output_type": "stream",
     "text": [
      "Fetching reads from file ZNL15S.deduplicated.sorted.bam\n",
      "Fetching reads from file ZNL14S.deduplicated.sorted.bam\n",
      "Fetching reads from file 35-ZNB12R3ME131W_M525-M725.deduplicated.sorted.bam\n",
      "Fetching reads from file 34-ZNB35R2ME131W_S8549-S8749.deduplicated.sorted.bam\n",
      "Fetching reads from file ZNC05S.deduplicated.sorted.bam\n",
      "Fetching reads from file ZNL08B.deduplicated.sorted.bam\n"
     ]
    },
    {
     "name": "stderr",
     "output_type": "stream",
     "text": [
      "[W::hts_idx_load3] The index file is older than the data file: /mnt/archiving/DATA_HIEUNHO/GW-bismark_cfDNA-highdepth_pair-end/04_bismark_deduplicated_sorted/ZNC01POOL.deduplicated.sorted.bam.bai\n",
      " 28%|███████████▊                              | 38/135 [00:19<00:09, 10.31it/s]"
     ]
    },
    {
     "name": "stdout",
     "output_type": "stream",
     "text": [
      "Fetching reads from file ZNC01POOL.deduplicated.sorted.bam\n",
      "Fetching reads from file 1-ZMH038ME131W_M549-M749.deduplicated.sorted.bam\n",
      "Fetching reads from file 11-ZMG052SR1ME131W_M559-M759.deduplicated.sorted.bam\n",
      "Fetching reads from file ZNC06S.deduplicated.sorted.bam\n",
      "Fetching reads from file ZNB06SR3.deduplicated.sorted.bam\n",
      "Fetching reads from file NB34I0W.deduplicated.sorted.bam\n"
     ]
    },
    {
     "name": "stderr",
     "output_type": "stream",
     "text": [
      " 30%|████████████▊                             | 41/135 [00:19<00:07, 12.84it/s][W::hts_idx_load3] The index file is older than the data file: /mnt/archiving/DATA_HIEUNHO/GW-bismark_cfDNA-highdepth_pair-end/04_bismark_deduplicated_sorted/MYGAAA03POOL.deduplicated.sorted.bam.bai\n",
      "[W::hts_idx_load3] The index file is older than the data file: /mnt/archiving/DATA_HIEUNHO/GW-bismark_cfDNA-highdepth_pair-end/04_bismark_deduplicated_sorted/MYGAAA01POOL.deduplicated.sorted.bam.bai\n",
      " 33%|█████████████▋                            | 44/135 [00:19<00:06, 15.02it/s]"
     ]
    },
    {
     "name": "stdout",
     "output_type": "stream",
     "text": [
      "Fetching reads from file ZNB28B.deduplicated.sorted.bam\n",
      "Fetching reads from file MYGAAA03POOL.deduplicated.sorted.bam\n",
      "Fetching reads from file MYGAAA01POOL.deduplicated.sorted.bam\n",
      "Fetching reads from file ZNC03S.deduplicated.sorted.bam\n",
      "Fetching reads from file LC107POOL.deduplicated.sorted.bam\n",
      "Fetching reads from file ZNL13S.deduplicated.sorted.bam\n"
     ]
    },
    {
     "name": "stderr",
     "output_type": "stream",
     "text": [
      "[W::hts_idx_load3] The index file is older than the data file: /mnt/archiving/DATA_HIEUNHO/GW-bismark_cfDNA-highdepth_pair-end/04_bismark_deduplicated_sorted/LC107POOL.deduplicated.sorted.bam.bai\n",
      "[W::hts_idx_load3] The index file is older than the data file: /mnt/archiving/DATA_HIEUNHO/GW-bismark_cfDNA-highdepth_pair-end/04_bismark_deduplicated_sorted/K0837POOL.deduplicated.sorted.bam.bai\n",
      " 36%|██████████████▉                           | 48/135 [00:19<00:04, 18.73it/s][W::hts_idx_load3] The index file is older than the data file: /mnt/archiving/DATA_HIEUNHO/GW-bismark_cfDNA-highdepth_pair-end/04_bismark_deduplicated_sorted/LBG38POOL.deduplicated.sorted.bam.bai\n",
      "[W::hts_idx_load3] The index file is older than the data file: /mnt/archiving/DATA_HIEUNHO/GW-bismark_cfDNA-highdepth_pair-end/04_bismark_deduplicated_sorted/YCAA92POOL.deduplicated.sorted.bam.bai\n",
      " 38%|███████████████▊                          | 51/135 [00:19<00:04, 20.83it/s]"
     ]
    },
    {
     "name": "stdout",
     "output_type": "stream",
     "text": [
      "Fetching reads from file 12-ZMG066SME131W_M560-M760.deduplicated.sorted.bam\n",
      "Fetching reads from file K0837POOL.deduplicated.sorted.bam\n",
      "Fetching reads from file LBG38POOL.deduplicated.sorted.bam\n",
      "Fetching reads from file YCAA92POOL.deduplicated.sorted.bam\n",
      "Fetching reads from file ZNL11S.deduplicated.sorted.bam\n",
      "Fetching reads from file 1-K2010R1ME131W_M516-M716.deduplicated.sorted.bam\n"
     ]
    },
    {
     "name": "stderr",
     "output_type": "stream",
     "text": [
      " 42%|█████████████████▋                        | 57/135 [00:19<00:03, 24.18it/s]"
     ]
    },
    {
     "name": "stdout",
     "output_type": "stream",
     "text": [
      "Fetching reads from file 1-ZNB28R3W_M576-M776.deduplicated.sorted.bam\n",
      "Fetching reads from file 1-L12143R1ME131W_M501-M701.deduplicated.sorted.bam\n",
      "Fetching reads from file 5-ZNL09R2ME131W_M510-M710.deduplicated.sorted.bam\n",
      "Fetching reads from file 8-ZNB034SR1ME131W_M556-M756.deduplicated.sorted.bam\n",
      "Fetching reads from file 1-LBG16ME136W_M530-M730.deduplicated.sorted.bam\n",
      "Fetching reads from file 3-ZNB027SR1ME131W_M551-M751.deduplicated.sorted.bam\n",
      "Fetching reads from file ZNC01S.deduplicated.sorted.bam\n"
     ]
    },
    {
     "name": "stderr",
     "output_type": "stream",
     "text": [
      " 47%|███████████████████▉                      | 64/135 [00:20<00:02, 26.03it/s]"
     ]
    },
    {
     "name": "stdout",
     "output_type": "stream",
     "text": [
      "Fetching reads from file ZNB05S.deduplicated.sorted.bam\n",
      "Fetching reads from file 34-CONTROLCF2ME131W_M524-M724.deduplicated.sorted.bam\n",
      "Fetching reads from file 1-K2003R1ME131W_M515-M715.deduplicated.sorted.bam\n",
      "Fetching reads from file ZNB03B.deduplicated.sorted.bam\n",
      "Fetching reads from file 1-ZMC068SME131W_M501-M701.deduplicated.sorted.bam\n",
      "Fetching reads from file 35-ZMC064ME131W_S8549-S8749.deduplicated.sorted.bam\n"
     ]
    },
    {
     "name": "stderr",
     "output_type": "stream",
     "text": [
      " 52%|█████████████████████▊                    | 70/135 [00:20<00:02, 25.91it/s]"
     ]
    },
    {
     "name": "stdout",
     "output_type": "stream",
     "text": [
      "Fetching reads from file 1-LBG19R1ME136W_M531-M731.deduplicated.sorted.bam\n",
      "Fetching reads from file 3-ZNB22SR1ME131W_M512-M712.deduplicated.sorted.bam\n",
      "Fetching reads from file 1-ZMH043ME131W_M551-M751.deduplicated.sorted.bam\n",
      "Fetching reads from file ZMG046S.deduplicated.sorted.bam\n",
      "Fetching reads from file ZNL17B.deduplicated.sorted.bam\n",
      "Fetching reads from file 5-ZNB031SR1ME131W_M553-M753.deduplicated.sorted.bam\n"
     ]
    },
    {
     "name": "stderr",
     "output_type": "stream",
     "text": [
      "[W::hts_idx_load3] The index file is older than the data file: /mnt/archiving/DATA_HIEUNHO/GW-bismark_cfDNA-highdepth_pair-end/04_bismark_deduplicated_sorted/LBG27POOL.deduplicated.sorted.bam.bai\n",
      " 55%|███████████████████████                   | 74/135 [00:20<00:02, 27.14it/s]"
     ]
    },
    {
     "name": "stdout",
     "output_type": "stream",
     "text": [
      "Fetching reads from file LBG27POOL.deduplicated.sorted.bam\n",
      "Fetching reads from file 17-K1007SR1ME131W_M565-M765.deduplicated.sorted.bam\n",
      "Fetching reads from file ZNB31B.deduplicated.sorted.bam\n",
      "Fetching reads from file ZNL15B.deduplicated.sorted.bam\n",
      "Fetching reads from file 2-ZNB20SME131W_M511-M711.deduplicated.sorted.bam\n",
      "Fetching reads from file 2-ZNB34R3W_M577-M777.deduplicated.sorted.bam\n"
     ]
    },
    {
     "name": "stderr",
     "output_type": "stream",
     "text": [
      "[W::hts_idx_load3] The index file is older than the data file: /mnt/archiving/DATA_HIEUNHO/GW-bismark_cfDNA-highdepth_pair-end/04_bismark_deduplicated_sorted/ZNB20.deduplicated.sorted.bam.bai\n",
      " 60%|█████████████████████████▏                | 81/135 [00:20<00:01, 27.26it/s]"
     ]
    },
    {
     "name": "stdout",
     "output_type": "stream",
     "text": [
      "Fetching reads from file ZNB20.deduplicated.sorted.bam\n",
      "Fetching reads from file ZNB33B.deduplicated.sorted.bam\n",
      "Fetching reads from file 1-K1364R1ME131W_M532-M732.deduplicated.sorted.bam\n",
      "Fetching reads from file 36-ZNB22ME131W_M526-M726.deduplicated.sorted.bam\n",
      "Fetching reads from file 1-ZNB33SR1ME131W_M513-M713.deduplicated.sorted.bam\n",
      "Fetching reads from file 10-ZMC063SR1ME131W_M558-M758.deduplicated.sorted.bam\n"
     ]
    },
    {
     "name": "stderr",
     "output_type": "stream",
     "text": [
      " 65%|███████████████████████████▍              | 88/135 [00:21<00:01, 28.47it/s]"
     ]
    },
    {
     "name": "stdout",
     "output_type": "stream",
     "text": [
      "Fetching reads from file ZNL08S.deduplicated.sorted.bam\n",
      "Fetching reads from file ZNB32B.deduplicated.sorted.bam\n",
      "Fetching reads from file ZNL14B.deduplicated.sorted.bam\n",
      "Fetching reads from file 6-ZNB32SME131W_M554-M754.deduplicated.sorted.bam\n",
      "Fetching reads from file ZNC19S.deduplicated.sorted.bam\n",
      "Fetching reads from file 2-ZNB35SME131W_M550-M750.deduplicated.sorted.bam\n"
     ]
    },
    {
     "name": "stderr",
     "output_type": "stream",
     "text": [
      "[W::hts_idx_load3] The index file is older than the data file: /mnt/archiving/DATA_HIEUNHO/GW-bismark_cfDNA-highdepth_pair-end/04_bismark_deduplicated_sorted/K0684POOL.deduplicated.sorted.bam.bai\n",
      " 67%|████████████████████████████▎             | 91/135 [00:21<00:01, 27.90it/s][W::hts_idx_load3] The index file is older than the data file: /mnt/archiving/DATA_HIEUNHO/GW-bismark_cfDNA-highdepth_pair-end/04_bismark_deduplicated_sorted/LBG37POOL.deduplicated.sorted.bam.bai\n",
      " 70%|█████████████████████████████▏            | 94/135 [00:21<00:01, 27.01it/s]"
     ]
    },
    {
     "name": "stdout",
     "output_type": "stream",
     "text": [
      "Fetching reads from file 3-ZNB44W_M578-M778.deduplicated.sorted.bam\n",
      "Fetching reads from file K0684POOL.deduplicated.sorted.bam\n",
      "Fetching reads from file LBG37POOL.deduplicated.sorted.bam\n",
      "Fetching reads from file ZNL11B.deduplicated.sorted.bam\n",
      "Fetching reads from file 1-L12843R1ME131W_M545-M745.deduplicated.sorted.bam\n",
      "Fetching reads from file ZNB04B.deduplicated.sorted.bam\n"
     ]
    },
    {
     "name": "stderr",
     "output_type": "stream",
     "text": [
      " 73%|██████████████████████████████▍           | 98/135 [00:21<00:01, 28.35it/s]"
     ]
    },
    {
     "name": "stdout",
     "output_type": "stream",
     "text": [
      "Fetching reads from file ZNB04SR2.deduplicated.sorted.bam\n",
      "Fetching reads from file 13-ZNL09SME131W_M561-M761.deduplicated.sorted.bam\n",
      "Fetching reads from file ZNB05B.deduplicated.sorted.bam\n",
      "Fetching reads from file 1-ZMG069SR1ME131W_M504-M704.deduplicated.sorted.bam\n",
      "Fetching reads from file ZNL10B.deduplicated.sorted.bam\n",
      "Fetching reads from file 2-ZNL10R2W_M581-M781.deduplicated.sorted.bam\n",
      "Fetching reads from file 4-ZMH059R2ME131W_M509-M709.deduplicated.sorted.bam\n"
     ]
    },
    {
     "name": "stderr",
     "output_type": "stream",
     "text": [
      " 78%|███████████████████████████████▉         | 105/135 [00:21<00:01, 28.85it/s]"
     ]
    },
    {
     "name": "stdout",
     "output_type": "stream",
     "text": [
      "Fetching reads from file 9-ZMC061SR1ME131W_M557-M757.deduplicated.sorted.bam\n",
      "Fetching reads from file 5-ZNB07R3W_M529-M729.deduplicated.sorted.bam\n",
      "Fetching reads from file ZNB34B.deduplicated.sorted.bam\n",
      "Fetching reads from file ZNB07B.deduplicated.sorted.bam\n",
      "Fetching reads from file 5-ZMC069ME131W_M508-M708.deduplicated.sorted.bam\n",
      "Fetching reads from file ZNL13B.deduplicated.sorted.bam\n"
     ]
    },
    {
     "name": "stderr",
     "output_type": "stream",
     "text": [
      " 83%|██████████████████████████████████       | 112/135 [00:21<00:00, 30.01it/s]"
     ]
    },
    {
     "name": "stdout",
     "output_type": "stream",
     "text": [
      "Fetching reads from file 1-ZNB12SME131W_M549-M749.deduplicated.sorted.bam\n",
      "Fetching reads from file 3-ZMH057SME131W_M503-M703.deduplicated.sorted.bam\n",
      "Fetching reads from file 1-L12309R2ME131W_M502-M702.deduplicated.sorted.bam\n",
      "Fetching reads from file ZNB35B.deduplicated.sorted.bam\n",
      "Fetching reads from file 3-ZMH049R2W_M582-M782.deduplicated.sorted.bam\n",
      "Fetching reads from file 16-ZMH059SME131W_M564-M764.deduplicated.sorted.bam\n",
      "Fetching reads from file 1-CONTROLCF3ME131W_M504-M704.deduplicated.sorted.bam\n"
     ]
    },
    {
     "name": "stderr",
     "output_type": "stream",
     "text": [
      " 88%|████████████████████████████████████▏    | 119/135 [00:22<00:00, 29.35it/s][W::hts_idx_load3] The index file is older than the data file: /mnt/archiving/DATA_HIEUNHO/GW-bismark_cfDNA-highdepth_pair-end/04_bismark_deduplicated_sorted/YCAA45POOL.deduplicated.sorted.bam.bai\n",
      "[W::hts_idx_load3] The index file is older than the data file: /mnt/archiving/DATA_HIEUNHO/GW-bismark_cfDNA-highdepth_pair-end/04_bismark_deduplicated_sorted/CONTROLCF1.deduplicated.sorted.bam.bai\n"
     ]
    },
    {
     "name": "stdout",
     "output_type": "stream",
     "text": [
      "Fetching reads from file 1-LAAC66R1ME131W_M544-M744.deduplicated.sorted.bam\n",
      "Fetching reads from file 4-ZNB028SR1ME131W_M552-M752.deduplicated.sorted.bam\n",
      "Fetching reads from file ZMG048S.deduplicated.sorted.bam\n",
      "Fetching reads from file 35-ZNL18ME131W_S7523-S7723.deduplicated.sorted.bam\n",
      "Fetching reads from file YCAA45POOL.deduplicated.sorted.bam\n",
      "Fetching reads from file CONTROLCF1.deduplicated.sorted.bam\n"
     ]
    },
    {
     "name": "stderr",
     "output_type": "stream",
     "text": [
      " 90%|█████████████████████████████████████    | 122/135 [00:22<00:00, 27.74it/s][W::hts_idx_load3] The index file is older than the data file: /mnt/archiving/DATA_HIEUNHO/GW-bismark_cfDNA-highdepth_pair-end/04_bismark_deduplicated_sorted/ZMH046.deduplicated.sorted.bam.bai\n",
      " 93%|█████████████████████████████████████▉   | 125/135 [00:22<00:00, 26.60it/s]"
     ]
    },
    {
     "name": "stdout",
     "output_type": "stream",
     "text": [
      "Fetching reads from file ZMH056S.deduplicated.sorted.bam\n",
      "Fetching reads from file 33-ZNB32R2ME131W_S7530-S7730.deduplicated.sorted.bam\n",
      "Fetching reads from file ZNL07S.deduplicated.sorted.bam\n",
      "Fetching reads from file ZMH046.deduplicated.sorted.bam\n",
      "Fetching reads from file 37-ZNB27R3ME131W_M527-M727.deduplicated.sorted.bam\n"
     ]
    },
    {
     "name": "stderr",
     "output_type": "stream",
     "text": [
      " 95%|██████████████████████████████████████▊  | 128/135 [00:22<00:00, 26.01it/s]"
     ]
    },
    {
     "name": "stdout",
     "output_type": "stream",
     "text": [
      "Fetching reads from file ZMH061S.deduplicated.sorted.bam\n",
      "Fetching reads from file ZMH053S.deduplicated.sorted.bam\n",
      "Fetching reads from file L13163_M546-M746.deduplicated.sorted.bam\n",
      "Fetching reads from file ZMH051S.deduplicated.sorted.bam\n",
      "Fetching reads from file ZNB33.deduplicated.sorted.bam\n"
     ]
    },
    {
     "name": "stderr",
     "output_type": "stream",
     "text": [
      "[W::hts_idx_load3] The index file is older than the data file: /mnt/archiving/DATA_HIEUNHO/GW-bismark_cfDNA-highdepth_pair-end/04_bismark_deduplicated_sorted/ZNB33.deduplicated.sorted.bam.bai\n",
      "100%|█████████████████████████████████████████| 135/135 [00:22<00:00,  5.94it/s]\n"
     ]
    },
    {
     "name": "stdout",
     "output_type": "stream",
     "text": [
      "Fetching reads from file ZMH050S.deduplicated.sorted.bam\n",
      "Fetching reads from file 33-ZMH057R1ME131W_S7523-S7723.deduplicated.sorted.bam\n",
      "Fetching reads from file 4-ZNB31R3W_M528-M728.deduplicated.sorted.bam\n",
      "Fetching reads from file 15-ZMH049SME131W_M563-M763.deduplicated.sorted.bam\n"
     ]
    },
    {
     "name": "stderr",
     "output_type": "stream",
     "text": [
      "  0%|                                                     | 0/8 [00:00<?, ?it/s]/tmp/ipykernel_971827/3345879321.py:59: RuntimeWarning: invalid value encountered in scalar divide\n",
      "  tmpcountdf = tmpdf.groupby('sample')[cpg_pos].apply(lambda x: (x == 1).sum()/((x == 0).sum() + (x == 1).sum()) ).reset_index(name= \"meth_level_{}\".format(cpg_pos))\n",
      "/tmp/ipykernel_971827/3345879321.py:59: RuntimeWarning: invalid value encountered in scalar divide\n",
      "  tmpcountdf = tmpdf.groupby('sample')[cpg_pos].apply(lambda x: (x == 1).sum()/((x == 0).sum() + (x == 1).sum()) ).reset_index(name= \"meth_level_{}\".format(cpg_pos))\n",
      "/tmp/ipykernel_971827/3345879321.py:59: RuntimeWarning: invalid value encountered in scalar divide\n",
      "  tmpcountdf = tmpdf.groupby('sample')[cpg_pos].apply(lambda x: (x == 1).sum()/((x == 0).sum() + (x == 1).sum()) ).reset_index(name= \"meth_level_{}\".format(cpg_pos))\n",
      " 38%|████████████████▉                            | 3/8 [00:00<00:00, 20.75it/s]/tmp/ipykernel_971827/3345879321.py:59: RuntimeWarning: invalid value encountered in scalar divide\n",
      "  tmpcountdf = tmpdf.groupby('sample')[cpg_pos].apply(lambda x: (x == 1).sum()/((x == 0).sum() + (x == 1).sum()) ).reset_index(name= \"meth_level_{}\".format(cpg_pos))\n",
      "/tmp/ipykernel_971827/3345879321.py:59: RuntimeWarning: invalid value encountered in scalar divide\n",
      "  tmpcountdf = tmpdf.groupby('sample')[cpg_pos].apply(lambda x: (x == 1).sum()/((x == 0).sum() + (x == 1).sum()) ).reset_index(name= \"meth_level_{}\".format(cpg_pos))\n",
      "/tmp/ipykernel_971827/3345879321.py:59: RuntimeWarning: invalid value encountered in scalar divide\n",
      "  tmpcountdf = tmpdf.groupby('sample')[cpg_pos].apply(lambda x: (x == 1).sum()/((x == 0).sum() + (x == 1).sum()) ).reset_index(name= \"meth_level_{}\".format(cpg_pos))\n",
      " 75%|█████████████████████████████████▊           | 6/8 [00:00<00:00, 21.61it/s]/tmp/ipykernel_971827/3345879321.py:59: RuntimeWarning: invalid value encountered in scalar divide\n",
      "  tmpcountdf = tmpdf.groupby('sample')[cpg_pos].apply(lambda x: (x == 1).sum()/((x == 0).sum() + (x == 1).sum()) ).reset_index(name= \"meth_level_{}\".format(cpg_pos))\n",
      "/tmp/ipykernel_971827/3345879321.py:59: RuntimeWarning: invalid value encountered in scalar divide\n",
      "  tmpcountdf = tmpdf.groupby('sample')[cpg_pos].apply(lambda x: (x == 1).sum()/((x == 0).sum() + (x == 1).sum()) ).reset_index(name= \"meth_level_{}\".format(cpg_pos))\n",
      "100%|█████████████████████████████████████████████| 8/8 [00:00<00:00, 21.69it/s]\n"
     ]
    }
   ],
   "source": [
    "import pandas as pd\n",
    "import numpy as np\n",
    "import pathlib\n",
    "from tqdm import tqdm\n",
    "import matplotlib.pyplot as plt\n",
    "import seaborn as sns\n",
    "import pysam\n",
    "import os\n",
    "import argparse\n",
    "import pyfaidx\n",
    "import sys\n",
    "import re\n",
    "from helper_functions import *\n",
    "\n",
    "bamdir = \"/mnt/archiving/DATA_HIEUNHO/GW-bismark_cfDNA-highdepth_pair-end/04_bismark_deduplicated_sorted\"\n",
    "region = \"1:1103264-1103363\"\n",
    "path_to_all_fa = \"/datassd/hieunguyen/hg19\"\n",
    "metadata = pd.read_csv(\"/mnt/DATASM14/hieunho/hieu_project/metadata/ECD/metadata_GW_highdepth.csv\")\n",
    "bamfiles = [item for item in pathlib.Path(bamdir).glob(\"*.bam\") if str(item) in metadata.Bam_file.unique()]\n",
    "\n",
    "print(\"Number of bam files in this location: {}\".format(len(bamfiles)))\n",
    "\n",
    "outputdir = \"./outputs\"\n",
    "os.system(\"mkdir -p {}\".format(outputdir))\n",
    "\n",
    "betadf = generate_betadf(bamfiles = bamfiles, \n",
    "                         region = region, \n",
    "                         path_to_all_fa = path_to_all_fa, \n",
    "                         outputdir = outputdir, \n",
    "                         save_file =  True)"
   ]
  }
 ],
 "metadata": {
  "kernelspec": {
   "display_name": "Python 3 (ipykernel)",
   "language": "python",
   "name": "python3"
  },
  "language_info": {
   "codemirror_mode": {
    "name": "ipython",
    "version": 3
   },
   "file_extension": ".py",
   "mimetype": "text/x-python",
   "name": "python",
   "nbconvert_exporter": "python",
   "pygments_lexer": "ipython3",
   "version": "3.8.12"
  }
 },
 "nbformat": 4,
 "nbformat_minor": 4
}
