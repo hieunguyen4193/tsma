{
 "cells": [
  {
   "cell_type": "code",
   "execution_count": 6,
   "id": "7ec5b03f-b1dc-4252-8feb-78987ef53f0b",
   "metadata": {},
   "outputs": [],
   "source": [
    "import pandas as pd\n",
    "import pathlib\n",
    "metadata = pd.read_csv(\"metadata.csv\")\n",
    "bamdir = \"/mnt/DATASM14/hieunho/hieu_data/GW-bismark_cfDNA-highdepth_pair-end/04_bismark_deduplicated_filtered_Q30\"\n",
    "all_bam_files = [item for item in pathlib.Path(bamdir).glob(\"*.bam\")]\n",
    "\n",
    "assert len(all_bam_files) == metadata.shape[0]\n",
    "\n",
    "metadata[\"path\"] = metadata[\"filename\"].apply(lambda x: str([item for item in all_bam_files if x + \".\" in item.name][0])\n",
    "                                             if len([item for item in all_bam_files if x + \".\" in item.name]) == 1 else \"error\")\n",
    "\n",
    "for sample_type in [\"Breast\", \"Liver\", \"CRC\", \"Lung\", \"Gastric\"]:\n",
    "    metadata[(metadata[\"Label\"] == sample_type) & (metadata[\"Sample type\"] ==\"Tissue\")][[\"path\"]].to_csv(\"list_bam_{}\".format(sample_type), header = False, index = False)"
   ]
  },
  {
   "cell_type": "code",
   "execution_count": 15,
   "id": "2190f297-bcf4-4b74-b54f-efa4e53b7b6b",
   "metadata": {},
   "outputs": [],
   "source": []
  },
  {
   "cell_type": "code",
   "execution_count": 19,
   "id": "fd8922da-ce6c-4199-a028-3a69001b2793",
   "metadata": {},
   "outputs": [],
   "source": []
  }
 ],
 "metadata": {
  "kernelspec": {
   "display_name": "Python 3 (ipykernel)",
   "language": "python",
   "name": "python3"
  },
  "language_info": {
   "codemirror_mode": {
    "name": "ipython",
    "version": 3
   },
   "file_extension": ".py",
   "mimetype": "text/x-python",
   "name": "python",
   "nbconvert_exporter": "python",
   "pygments_lexer": "ipython3",
   "version": "3.8.12"
  }
 },
 "nbformat": 4,
 "nbformat_minor": 5
}
