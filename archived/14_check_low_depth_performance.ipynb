{
 "cells": [
  {
   "cell_type": "code",
   "execution_count": 79,
   "id": "dcafe70d-e6ff-4da1-8baf-1b35083be5cb",
   "metadata": {},
   "outputs": [],
   "source": [
    "import pandas as pd\n",
    "import pathlib\n",
    "from tqdm import tqdm\n",
    "import seaborn as sns\n",
    "import matplotlib.pyplot as plt\n",
    "path_to_lowd_samples = \"/datassd/hieunho/deconvolution_atlas_201023/201023_cfDNA_lowdepth\"\n",
    "import numpy as np\n",
    "metadata = pd.read_excel('/datassd/hieunguyen/ECD/tumor_atlas_official/New Metadata for pan-cancer paper 2.xlsx')\n",
    "metadata = metadata[metadata[\"Label\"].isna() == False]"
   ]
  },
  {
   "cell_type": "code",
   "execution_count": 2,
   "id": "ccbceb34-f58f-4168-808f-380e85c6daba",
   "metadata": {},
   "outputs": [
    {
     "data": {
      "text/html": [
       "<div>\n",
       "<style scoped>\n",
       "    .dataframe tbody tr th:only-of-type {\n",
       "        vertical-align: middle;\n",
       "    }\n",
       "\n",
       "    .dataframe tbody tr th {\n",
       "        vertical-align: top;\n",
       "    }\n",
       "\n",
       "    .dataframe thead th {\n",
       "        text-align: right;\n",
       "    }\n",
       "</style>\n",
       "<table border=\"1\" class=\"dataframe\">\n",
       "  <thead>\n",
       "    <tr style=\"text-align: right;\">\n",
       "      <th></th>\n",
       "      <th>Group</th>\n",
       "      <th>Label</th>\n",
       "      <th>SampleID</th>\n",
       "      <th>Age</th>\n",
       "      <th>Gender</th>\n",
       "      <th>Tumor Stage</th>\n",
       "      <th>Tumor type</th>\n",
       "      <th>Background lesions</th>\n",
       "      <th>Unnamed: 8</th>\n",
       "      <th>Unnamed: 9</th>\n",
       "      <th>RUNTM</th>\n",
       "      <th>RUNGW</th>\n",
       "    </tr>\n",
       "  </thead>\n",
       "  <tbody>\n",
       "    <tr>\n",
       "      <th>1</th>\n",
       "      <td>Discovery</td>\n",
       "      <td>Control</td>\n",
       "      <td>K0001</td>\n",
       "      <td>54.0</td>\n",
       "      <td>Female</td>\n",
       "      <td>NaN</td>\n",
       "      <td>NaN</td>\n",
       "      <td>NaN</td>\n",
       "      <td>NaN</td>\n",
       "      <td>NaN</td>\n",
       "      <td>R1718</td>\n",
       "      <td>R1718</td>\n",
       "    </tr>\n",
       "    <tr>\n",
       "      <th>2</th>\n",
       "      <td>Discovery</td>\n",
       "      <td>Control</td>\n",
       "      <td>K0002R1</td>\n",
       "      <td>44.0</td>\n",
       "      <td>Female</td>\n",
       "      <td>NaN</td>\n",
       "      <td>NaN</td>\n",
       "      <td>NaN</td>\n",
       "      <td>NaN</td>\n",
       "      <td>NaN</td>\n",
       "      <td>R1808</td>\n",
       "      <td>R1808</td>\n",
       "    </tr>\n",
       "    <tr>\n",
       "      <th>3</th>\n",
       "      <td>Discovery</td>\n",
       "      <td>Control</td>\n",
       "      <td>K0003</td>\n",
       "      <td>41.0</td>\n",
       "      <td>Male</td>\n",
       "      <td>NaN</td>\n",
       "      <td>NaN</td>\n",
       "      <td>NaN</td>\n",
       "      <td>NaN</td>\n",
       "      <td>NaN</td>\n",
       "      <td>R1718</td>\n",
       "      <td>R1718</td>\n",
       "    </tr>\n",
       "    <tr>\n",
       "      <th>4</th>\n",
       "      <td>Discovery</td>\n",
       "      <td>Control</td>\n",
       "      <td>K0004</td>\n",
       "      <td>46.0</td>\n",
       "      <td>Female</td>\n",
       "      <td>NaN</td>\n",
       "      <td>NaN</td>\n",
       "      <td>NaN</td>\n",
       "      <td>NaN</td>\n",
       "      <td>NaN</td>\n",
       "      <td>R1718</td>\n",
       "      <td>R1718</td>\n",
       "    </tr>\n",
       "    <tr>\n",
       "      <th>5</th>\n",
       "      <td>Discovery</td>\n",
       "      <td>Control</td>\n",
       "      <td>K0006</td>\n",
       "      <td>61.0</td>\n",
       "      <td>Female</td>\n",
       "      <td>NaN</td>\n",
       "      <td>NaN</td>\n",
       "      <td>NaN</td>\n",
       "      <td>NaN</td>\n",
       "      <td>NaN</td>\n",
       "      <td>R1718</td>\n",
       "      <td>R1718</td>\n",
       "    </tr>\n",
       "  </tbody>\n",
       "</table>\n",
       "</div>"
      ],
      "text/plain": [
       "       Group    Label SampleID   Age  Gender Tumor Stage Tumor type  \\\n",
       "1  Discovery  Control    K0001  54.0  Female         NaN        NaN   \n",
       "2  Discovery  Control  K0002R1  44.0  Female         NaN        NaN   \n",
       "3  Discovery  Control    K0003  41.0    Male         NaN        NaN   \n",
       "4  Discovery  Control    K0004  46.0  Female         NaN        NaN   \n",
       "5  Discovery  Control    K0006  61.0  Female         NaN        NaN   \n",
       "\n",
       "  Background lesions Unnamed: 8 Unnamed: 9  RUNTM  RUNGW  \n",
       "1                NaN        NaN        NaN  R1718  R1718  \n",
       "2                NaN        NaN        NaN  R1808  R1808  \n",
       "3                NaN        NaN        NaN  R1718  R1718  \n",
       "4                NaN        NaN        NaN  R1718  R1718  \n",
       "5                NaN        NaN        NaN  R1718  R1718  "
      ]
     },
     "execution_count": 2,
     "metadata": {},
     "output_type": "execute_result"
    }
   ],
   "source": [
    "metadata.head()"
   ]
  },
  {
   "cell_type": "code",
   "execution_count": 116,
   "id": "ce8da9b4-5243-4721-b837-622d8b4ba6fb",
   "metadata": {},
   "outputs": [
    {
     "data": {
      "text/html": [
       "<div>\n",
       "<style scoped>\n",
       "    .dataframe tbody tr th:only-of-type {\n",
       "        vertical-align: middle;\n",
       "    }\n",
       "\n",
       "    .dataframe tbody tr th {\n",
       "        vertical-align: top;\n",
       "    }\n",
       "\n",
       "    .dataframe thead th {\n",
       "        text-align: right;\n",
       "    }\n",
       "</style>\n",
       "<table border=\"1\" class=\"dataframe\">\n",
       "  <thead>\n",
       "    <tr style=\"text-align: right;\">\n",
       "      <th>TOO</th>\n",
       "      <th>index</th>\n",
       "      <th>Liver</th>\n",
       "      <th>Breast</th>\n",
       "      <th>Gastric</th>\n",
       "      <th>Lung</th>\n",
       "      <th>CRC</th>\n",
       "      <th>WBC</th>\n",
       "      <th>prediction</th>\n",
       "      <th>group</th>\n",
       "      <th>check</th>\n",
       "    </tr>\n",
       "    <tr>\n",
       "      <th>Label</th>\n",
       "      <th></th>\n",
       "      <th></th>\n",
       "      <th></th>\n",
       "      <th></th>\n",
       "      <th></th>\n",
       "      <th></th>\n",
       "      <th></th>\n",
       "      <th></th>\n",
       "      <th></th>\n",
       "      <th></th>\n",
       "    </tr>\n",
       "  </thead>\n",
       "  <tbody>\n",
       "    <tr>\n",
       "      <th>Breast cancer</th>\n",
       "      <td>223</td>\n",
       "      <td>223</td>\n",
       "      <td>223</td>\n",
       "      <td>223</td>\n",
       "      <td>223</td>\n",
       "      <td>223</td>\n",
       "      <td>223</td>\n",
       "      <td>223</td>\n",
       "      <td>223</td>\n",
       "      <td>223</td>\n",
       "    </tr>\n",
       "    <tr>\n",
       "      <th>CRC cancer</th>\n",
       "      <td>159</td>\n",
       "      <td>159</td>\n",
       "      <td>159</td>\n",
       "      <td>159</td>\n",
       "      <td>159</td>\n",
       "      <td>159</td>\n",
       "      <td>159</td>\n",
       "      <td>159</td>\n",
       "      <td>159</td>\n",
       "      <td>159</td>\n",
       "    </tr>\n",
       "    <tr>\n",
       "      <th>Control</th>\n",
       "      <td>1550</td>\n",
       "      <td>1550</td>\n",
       "      <td>1550</td>\n",
       "      <td>1550</td>\n",
       "      <td>1550</td>\n",
       "      <td>1550</td>\n",
       "      <td>1550</td>\n",
       "      <td>1550</td>\n",
       "      <td>1550</td>\n",
       "      <td>1550</td>\n",
       "    </tr>\n",
       "    <tr>\n",
       "      <th>Gastric cancer</th>\n",
       "      <td>98</td>\n",
       "      <td>98</td>\n",
       "      <td>98</td>\n",
       "      <td>98</td>\n",
       "      <td>98</td>\n",
       "      <td>98</td>\n",
       "      <td>98</td>\n",
       "      <td>98</td>\n",
       "      <td>98</td>\n",
       "      <td>98</td>\n",
       "    </tr>\n",
       "    <tr>\n",
       "      <th>Liver cancer</th>\n",
       "      <td>122</td>\n",
       "      <td>122</td>\n",
       "      <td>122</td>\n",
       "      <td>122</td>\n",
       "      <td>122</td>\n",
       "      <td>122</td>\n",
       "      <td>122</td>\n",
       "      <td>122</td>\n",
       "      <td>122</td>\n",
       "      <td>122</td>\n",
       "    </tr>\n",
       "    <tr>\n",
       "      <th>Lung cancer</th>\n",
       "      <td>136</td>\n",
       "      <td>136</td>\n",
       "      <td>136</td>\n",
       "      <td>136</td>\n",
       "      <td>136</td>\n",
       "      <td>136</td>\n",
       "      <td>136</td>\n",
       "      <td>136</td>\n",
       "      <td>136</td>\n",
       "      <td>136</td>\n",
       "    </tr>\n",
       "  </tbody>\n",
       "</table>\n",
       "</div>"
      ],
      "text/plain": [
       "TOO             index  Liver  Breast  Gastric  Lung   CRC   WBC  prediction  \\\n",
       "Label                                                                         \n",
       "Breast cancer     223    223     223      223   223   223   223         223   \n",
       "CRC cancer        159    159     159      159   159   159   159         159   \n",
       "Control          1550   1550    1550     1550  1550  1550  1550        1550   \n",
       "Gastric cancer     98     98      98       98    98    98    98          98   \n",
       "Liver cancer      122    122     122      122   122   122   122         122   \n",
       "Lung cancer       136    136     136      136   136   136   136         136   \n",
       "\n",
       "TOO             group  check  \n",
       "Label                         \n",
       "Breast cancer     223    223  \n",
       "CRC cancer        159    159  \n",
       "Control          1550   1550  \n",
       "Gastric cancer     98     98  \n",
       "Liver cancer      122    122  \n",
       "Lung cancer       136    136  "
      ]
     },
     "execution_count": 116,
     "metadata": {},
     "output_type": "execute_result"
    }
   ],
   "source": [
    "df.groupby([\"Label\"]).count()"
   ]
  },
  {
   "cell_type": "code",
   "execution_count": 3,
   "id": "5652b1bb-115a-471e-be3b-ef1c40f64df1",
   "metadata": {},
   "outputs": [],
   "source": [
    "files = [item for item in pathlib.Path(path_to_lowd_samples).glob(\"*.deconvo.csv\")]"
   ]
  },
  {
   "cell_type": "code",
   "execution_count": 4,
   "id": "583a2400-049b-4278-ba85-22e86f97ed8a",
   "metadata": {
    "scrolled": true
   },
   "outputs": [
    {
     "name": "stderr",
     "output_type": "stream",
     "text": [
      "100%|███████████████████████████████████████| 2288/2288 [01:15<00:00, 30.35it/s]\n"
     ]
    }
   ],
   "source": [
    "df = pd.DataFrame(data = [\"Liver\", \"Breast\", \"Gastric\", \"Lung\", \"CRC\", \"WBC\"], columns = [\"TOO\"])\n",
    "for file in tqdm(files):\n",
    "    tmpdf = pd.read_csv(file, index_col = [0])\n",
    "    df = df.merge(tmpdf, right_on = \"TOO\", left_on = \"TOO\")\n",
    "\n",
    "df = df.set_index(\"TOO\").T"
   ]
  },
  {
   "cell_type": "code",
   "execution_count": 5,
   "id": "9074dc37-cbd6-4b21-9b4d-9d472d4aa214",
   "metadata": {},
   "outputs": [],
   "source": [
    "df = df.reset_index()"
   ]
  },
  {
   "cell_type": "code",
   "execution_count": 11,
   "id": "5c06dedf-2331-4b23-b6ca-0541915498f8",
   "metadata": {},
   "outputs": [],
   "source": [
    "df[\"prediction\"] = df[[\"Liver\", \"Breast\", \"Gastric\", \"Lung\", \"CRC\"]].apply(\n",
    "    lambda x: [\"Liver\", \"Breast\", \"Gastric\", \"Lung\", \"CRC\"][list(x).index(max(x))]  + \" cancer\", axis = 1\n",
    ")"
   ]
  },
  {
   "cell_type": "code",
   "execution_count": 12,
   "id": "20d52bac-8c97-4ce8-8675-e9f832ee4a9b",
   "metadata": {},
   "outputs": [],
   "source": [
    "df[\"Label\"] = df[\"index\"].apply(lambda x: metadata[metadata[\"SampleID\"] == x.split(\".\")[0]].Label.unique()[0])"
   ]
  },
  {
   "cell_type": "code",
   "execution_count": 13,
   "id": "9cc48221-eedd-4c61-b451-8859f7f3aff9",
   "metadata": {},
   "outputs": [],
   "source": [
    "df[\"group\"] = df[\"index\"].apply(lambda x: metadata[metadata[\"SampleID\"] == x.split(\".\")[0]].Group.unique()[0])"
   ]
  },
  {
   "cell_type": "code",
   "execution_count": 27,
   "id": "05bef095-1ed8-452a-b780-88b581f3a46d",
   "metadata": {},
   "outputs": [],
   "source": [
    "df[\"check\"] = df[[\"prediction\", \"Label\"]].apply(lambda x: \"correct\" if x[0] == x[1] else \"incorrect\", axis = 1)"
   ]
  },
  {
   "cell_type": "code",
   "execution_count": 28,
   "id": "5c625a50-bf9b-43c1-a83e-7757fb4ea21f",
   "metadata": {},
   "outputs": [
    {
     "data": {
      "text/plain": [
       "group       check    \n",
       "Discovery   correct       125\n",
       "            incorrect    1450\n",
       "Validation  correct        68\n",
       "            incorrect     645\n",
       "Name: index, dtype: int64"
      ]
     },
     "execution_count": 28,
     "metadata": {},
     "output_type": "execute_result"
    }
   ],
   "source": [
    "df.groupby([\"group\", \"check\"])[\"index\"].count()"
   ]
  },
  {
   "cell_type": "code",
   "execution_count": 29,
   "id": "52b3bd87-391b-420e-8e2f-edcddf31bc70",
   "metadata": {},
   "outputs": [
    {
     "data": {
      "image/png": "[encoded data removed]",
      "text/plain": [
       "<Figure size 640x480 with 1 Axes>"
      ]
     },
     "metadata": {},
     "output_type": "display_data"
    }
   ],
   "source": [
    "sns.boxplot(data = df, x = \"check\", y = \"WBC\")\n",
    "plt.show()"
   ]
  },
  {
   "cell_type": "code",
   "execution_count": 112,
   "id": "c6889e0f-0a80-4858-90fc-37ea4bd649e8",
   "metadata": {},
   "outputs": [
    {
     "data": {
      "text/plain": [
       "(array([0, 1, 2, 3, 4, 5]),\n",
       " [Text(0, 0, 'Breast cancer'),\n",
       "  Text(1, 0, 'Gastric cancer'),\n",
       "  Text(2, 0, 'Lung cancer'),\n",
       "  Text(3, 0, 'CRC cancer'),\n",
       "  Text(4, 0, 'Liver cancer'),\n",
       "  Text(5, 0, 'Control')])"
      ]
     },
     "execution_count": 112,
     "metadata": {},
     "output_type": "execute_result"
    },
    {
     "data": {
      "image/png": "[encoded data removed]",
      "text/plain": [
       "<Figure size 640x480 with 1 Axes>"
      ]
     },
     "metadata": {},
     "output_type": "display_data"
    }
   ],
   "source": [
    "sns.boxplot(data = df, x = \"Label\", y = \"WBC\", hue  = \"group\")\n",
    "plt.xticks(rotation = 90)"
   ]
  },
  {
   "cell_type": "code",
   "execution_count": 70,
   "id": "e4739128-4ae4-486d-81c1-fed1d149ac25",
   "metadata": {},
   "outputs": [],
   "source": [
    "df_discovery = df[(df[\"Label\"] != \"Control\") & (df[\"group\"] == \"Discovery\")]\n",
    "df_validation = df[(df[\"Label\"] != \"Control\") & (df[\"group\"] == \"Validation\")]\n",
    "\n",
    "from xgboost import XGBClassifier\n",
    "from sklearn.model_selection import train_test_split\n",
    "\n",
    "convert = dict()\n",
    "convert[\"Liver cancer\"] = 0\n",
    "convert[\"Breast cancer\"] = 1\n",
    "convert[\"Gastric cancer\"] = 2\n",
    "convert[\"Lung cancer\"] = 3\n",
    "convert[\"CRC cancer\"] = 4\n",
    "\n",
    "convert_back = dict()\n",
    "convert_back[0] = \"Liver cancer\"\n",
    "convert_back[1] = \"Breast cancer\"\n",
    "convert_back[2] = \"Gastric cancer\"\n",
    "convert_back[3] = \"Lung cancer\"\n",
    "convert_back[4] = \"CRC cancer\""
   ]
  },
  {
   "cell_type": "code",
   "execution_count": 57,
   "id": "c40e2264-4f45-4862-9828-e778a9e6c39d",
   "metadata": {},
   "outputs": [
    {
     "data": {
      "text/plain": [
       "0.3263598326359833"
      ]
     },
     "execution_count": 57,
     "metadata": {},
     "output_type": "execute_result"
    }
   ],
   "source": [
    "X_train = df_discovery[[\"Liver\", \"Breast\", \"Gastric\", \"Lung\", \"CRC\"]].to_numpy()\n",
    "X_test = df_validation[[\"Liver\", \"Breast\", \"Gastric\", \"Lung\", \"CRC\"]].to_numpy()\n",
    "y_train = [convert[item] for item in df_discovery[\"Label\"].to_list()]\n",
    "y_test = [convert[item] for item in df_validation[\"Label\"].to_list()]\n",
    "bst = XGBClassifier(n_estimators=10, max_depth=200, learning_rate=0.001, objective='multi:softmax')\n",
    "# fit model\n",
    "bst.fit(X_train, y_train)\n",
    "# make predictions\n",
    "preds = bst.predict(X_test)\n",
    "from sklearn.metrics import confusion_matrix, ConfusionMatrixDisplay\n",
    "from sklearn.metrics import accuracy_score\n",
    "accuracy_score(preds, y_test)"
   ]
  },
  {
   "cell_type": "code",
   "execution_count": 117,
   "id": "1b5178a4-a9dd-4e8c-adc7-258eae6ece08",
   "metadata": {},
   "outputs": [
    {
     "data": {
      "text/plain": [
       "0.779559118236473"
      ]
     },
     "execution_count": 117,
     "metadata": {},
     "output_type": "execute_result"
    }
   ],
   "source": [
    "accuracy_score(bst.predict(X_train), y_train)"
   ]
  },
  {
   "cell_type": "code",
   "execution_count": 118,
   "id": "56da3a64-af91-4c4b-aa37-81f51f2b7871",
   "metadata": {},
   "outputs": [
    {
     "data": {
      "text/plain": [
       "<sklearn.metrics._plot.confusion_matrix.ConfusionMatrixDisplay at 0x7f4e21777190>"
      ]
     },
     "execution_count": 118,
     "metadata": {},
     "output_type": "execute_result"
    },
    {
     "data": {
      "image/png": "[encoded data removed]",
      "text/plain": [
       "<Figure size 640x480 with 2 Axes>"
      ]
     },
     "metadata": {},
     "output_type": "display_data"
    }
   ],
   "source": [
    "disp = ConfusionMatrixDisplay(confusion_matrix = confusion_matrix(y_train, bst.predict(X_train)), display_labels=[\"Liver\", \"Breast\", \"Gastric\", \"Lung\", \"CRC\"])\n",
    "disp.plot()"
   ]
  },
  {
   "cell_type": "code",
   "execution_count": 106,
   "id": "f020da65-cac2-4802-94d3-5818be3b7e67",
   "metadata": {},
   "outputs": [],
   "source": [
    "cm = confusion_matrix(y_test, preds)\n",
    "\n",
    "pct_cm = cm.diagonal()/np.sum(cm, axis = 1)"
   ]
  },
  {
   "cell_type": "code",
   "execution_count": 110,
   "id": "44b8c12a-63bf-4ee7-8239-f4aa455c1d64",
   "metadata": {},
   "outputs": [
    {
     "data": {
      "text/plain": [
       "array([45, 67, 31, 43, 53])"
      ]
     },
     "execution_count": 110,
     "metadata": {},
     "output_type": "execute_result"
    }
   ],
   "source": [
    "np.sum(cm, axis = 1)"
   ]
  },
  {
   "cell_type": "code",
   "execution_count": 109,
   "id": "41ca419b-9f72-464f-addf-309e03e11a8b",
   "metadata": {},
   "outputs": [
    {
     "data": {
      "text/plain": [
       "array([0.31111111, 0.49253731, 0.03225806, 0.18604651, 0.41509434])"
      ]
     },
     "execution_count": 109,
     "metadata": {},
     "output_type": "execute_result"
    }
   ],
   "source": [
    "pct_cm"
   ]
  },
  {
   "cell_type": "code",
   "execution_count": 77,
   "id": "b03f074c-0f39-4961-ab86-1020b2c4f569",
   "metadata": {},
   "outputs": [
    {
     "data": {
      "text/plain": [
       "<sklearn.metrics._plot.confusion_matrix.ConfusionMatrixDisplay at 0x7f4e443a6460>"
      ]
     },
     "execution_count": 77,
     "metadata": {},
     "output_type": "execute_result"
    },
    {
     "data": {
      "image/png": "[encoded data removed]",
      "text/plain": [
       "<Figure size 640x480 with 2 Axes>"
      ]
     },
     "metadata": {},
     "output_type": "display_data"
    }
   ],
   "source": [
    "disp = ConfusionMatrixDisplay(confusion_matrix = cm, display_labels=[\"Liver\", \"Breast\", \"Gastric\", \"Lung\", \"CRC\"])\n",
    "disp.plot()"
   ]
  },
  {
   "cell_type": "code",
   "execution_count": 71,
   "id": "52a01dfc-877c-4674-92e4-8229fe0b1fbc",
   "metadata": {},
   "outputs": [
    {
     "name": "stderr",
     "output_type": "stream",
     "text": [
      "/tmp/ipykernel_476589/3259451529.py:1: SettingWithCopyWarning: \n",
      "A value is trying to be set on a copy of a slice from a DataFrame.\n",
      "Try using .loc[row_indexer,col_indexer] = value instead\n",
      "\n",
      "See the caveats in the documentation: https://pandas.pydata.org/pandas-docs/stable/user_guide/indexing.html#returning-a-view-versus-a-copy\n",
      "  df_validation[\"XGBoost_pred\"] = [convert_back[item] for item in preds]\n"
     ]
    }
   ],
   "source": [
    "df_validation[\"XGBoost_pred\"] = [convert_back[item] for item in preds]"
   ]
  },
  {
   "cell_type": "code",
   "execution_count": 74,
   "id": "d6f598ea-2be9-48e7-b7df-2717110f1e2e",
   "metadata": {},
   "outputs": [
    {
     "name": "stderr",
     "output_type": "stream",
     "text": [
      "/tmp/ipykernel_476589/2676380499.py:1: SettingWithCopyWarning: \n",
      "A value is trying to be set on a copy of a slice from a DataFrame.\n",
      "Try using .loc[row_indexer,col_indexer] = value instead\n",
      "\n",
      "See the caveats in the documentation: https://pandas.pydata.org/pandas-docs/stable/user_guide/indexing.html#returning-a-view-versus-a-copy\n",
      "  df_validation[\"check_XGBoost\"] = df_validation[[\"XGBoost_pred\", \"Label\"]].apply(lambda x: \"correct\" if x[0] == x[1] else \"incorrect\", axis = 1)\n"
     ]
    }
   ],
   "source": [
    "df_validation[\"check_XGBoost\"] = df_validation[[\"XGBoost_pred\", \"Label\"]].apply(lambda x: \"correct\" if x[0] == x[1] else \"incorrect\", axis = 1)"
   ]
  },
  {
   "cell_type": "code",
   "execution_count": 75,
   "id": "4aa2a345-92ab-4311-a992-549ad45fb698",
   "metadata": {},
   "outputs": [
    {
     "data": {
      "text/plain": [
       "check_XGBoost  Label         \n",
       "correct        Breast cancer     33\n",
       "               CRC cancer        22\n",
       "               Gastric cancer     1\n",
       "               Liver cancer      14\n",
       "               Lung cancer        8\n",
       "incorrect      Breast cancer     34\n",
       "               CRC cancer        31\n",
       "               Gastric cancer    30\n",
       "               Liver cancer      31\n",
       "               Lung cancer       35\n",
       "Name: index, dtype: int64"
      ]
     },
     "execution_count": 75,
     "metadata": {},
     "output_type": "execute_result"
    }
   ],
   "source": [
    "df_validation.groupby([\"check_XGBoost\", \"Label\"])[\"index\"].count()"
   ]
  },
  {
   "cell_type": "code",
   "execution_count": null,
   "id": "9792af60-4fba-4e20-81bf-26d7ee6a998b",
   "metadata": {},
   "outputs": [],
   "source": []
  }
 ],
 "metadata": {
  "kernelspec": {
   "display_name": "Python 3 (ipykernel)",
   "language": "python",
   "name": "python3"
  },
  "language_info": {
   "codemirror_mode": {
    "name": "ipython",
    "version": 3
   },
   "file_extension": ".py",
   "mimetype": "text/x-python",
   "name": "python",
   "nbconvert_exporter": "python",
   "pygments_lexer": "ipython3",
   "version": "3.8.12"
  }
 },
 "nbformat": 4,
 "nbformat_minor": 5
}
