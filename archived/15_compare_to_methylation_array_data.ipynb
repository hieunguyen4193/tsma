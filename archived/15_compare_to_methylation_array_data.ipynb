{
 "cells": [
  {
   "cell_type": "code",
   "execution_count": 4,
   "id": "f10cdd91-ff89-4135-9b51-de34c992841d",
   "metadata": {},
   "outputs": [],
   "source": [
    "import pandas as pd\n",
    "import numpy as np\n",
    "\n",
    "import matplotlib.pyplot as plt\n",
    "import seaborn as sns\n",
    "\n",
    "from tqdm import tqdm\n",
    "import pathlib\n",
    "import os\n",
    "\n",
    "from helper_functions import *\n",
    "metadata = pd.read_csv(\"metadata.csv\")\n",
    "metadata_cfdna = metadata[metadata[\"Sample type\"].isin([\"cfDNA\", \"Control\"])]\n",
    "import warnings\n",
    "warnings.filterwarnings(\"ignore\")\n",
    "\n",
    "topK = 500\n",
    "atlas_sample_types = \"Tissue,WBC\"\n",
    "\n",
    "datadir = \"./datadir\"\n",
    "outputdir = \"./outputdir_02102023\"\n",
    "\n",
    "path_to_03_output = os.path.join(outputdir, \"03_output_noFDR\")\n",
    "path_to_04_output = os.path.join(outputdir, \"04_output_noFDR\", \"top{}_{}\".format(topK, atlas_sample_types.replace(\",\", \"_and_\")))\n",
    "path_to_15_output = os.path.join(outputdir, \"15_output_noFDR\", \"top{}_{}\".format(topK, atlas_sample_types.replace(\",\", \"_and_\")))\n",
    "os.system(\"mkdir -p {}\".format(path_to_15_output))\n",
    "\n",
    "atlas = pd.read_csv(os.path.join(path_to_03_output, \"top{}_atlas_{}.final.csv\".format(topK, atlas_sample_types)), index_col =[0])\n",
    "\n",
    "atlas = atlas[[item for item in atlas.columns if \"_y\" not in item ]]\n",
    "atlas.columns = [item.replace(\"_x\", \"\") for item in atlas.columns]\n",
    "\n",
    "avg_atlas = atlas.set_index(\"sample\").fillna(0).groupby(\"label\").mean()\n",
    "avg_atlas = avg_atlas.loc[atlas_labels[atlas_sample_types]]\n",
    "atlas_regions = [item for item in atlas.columns if item not in [\"sample\", \"label\"]]"
   ]
  },
  {
   "cell_type": "code",
   "execution_count": 16,
   "id": "13799d74-c6e2-4dfa-a343-efbb888c253e",
   "metadata": {
    "scrolled": true
   },
   "outputs": [
    {
     "name": "stderr",
     "output_type": "stream",
     "text": [
      "100%|██████████████████████████████████████| 2945/2945 [00:08<00:00, 358.48it/s]\n"
     ]
    }
   ],
   "source": [
    "df = pd.DataFrame()\n",
    "for region in tqdm(atlas_regions):\n",
    "    region_chrom = region.split(\"_\")[0]\n",
    "    region_start = int(region.split(\"_\")[1])\n",
    "    region_end = int(region.split(\"_\")[2])\n",
    "    refseq_at_cluster = get_refseq(path_to_all_fa = path_to_all_fa, \n",
    "                                        chrom = region_chrom, \n",
    "                                        start = region_start, \n",
    "                                        end = region_end + 1)\n",
    "    all_cpg_in_cluster = [m.start(0) for m in re.finditer(\"CG\", refseq_at_cluster)]\n",
    "    cpg_coords = [item + region_start for item in all_cpg_in_cluster]\n",
    "    tmpdf = pd.DataFrame(data = cpg_coords, columns = [\"pos\"])\n",
    "    tmpdf[\"chrom\"] = region_chrom\n",
    "    tmpdf[\"region\"] = region\n",
    "    df = pd.concat([df, tmpdf], axis = 0)\n",
    "    "
   ]
  },
  {
   "cell_type": "code",
   "execution_count": 17,
   "id": "7c162595-7c6e-43fc-a5bd-b3509231c11c",
   "metadata": {},
   "outputs": [],
   "source": [
    "df.to_csv(\"atlas_cpgs.csv\")"
   ]
  },
  {
   "cell_type": "code",
   "execution_count": null,
   "id": "255e6771-47d5-4f26-a010-fc31bb3ea417",
   "metadata": {},
   "outputs": [],
   "source": []
  }
 ],
 "metadata": {
  "kernelspec": {
   "display_name": "Python 3 (ipykernel)",
   "language": "python",
   "name": "python3"
  },
  "language_info": {
   "codemirror_mode": {
    "name": "ipython",
    "version": 3
   },
   "file_extension": ".py",
   "mimetype": "text/x-python",
   "name": "python",
   "nbconvert_exporter": "python",
   "pygments_lexer": "ipython3",
   "version": "3.8.12"
  }
 },
 "nbformat": 4,
 "nbformat_minor": 5
}
