{
 "cells": [
  {
   "cell_type": "code",
   "execution_count": 1,
   "id": "7513c52f-3e99-4408-b56c-2b1562428508",
   "metadata": {},
   "outputs": [],
   "source": [
    "import pandas as pd\n",
    "import numpy as np\n",
    "df = pd.read_csv(\"/datassd/hieunguyen/ECD/tumor_atlas_official/outputdir/02_output/Tissue_and_WBC_and_Control/ttest_res_tissue_and_wbc_samples_1_10002656_10002757.csv\", index_col = [0])\n",
    "df = df.fillna(\"nan\")"
   ]
  },
  {
   "cell_type": "code",
   "execution_count": 2,
   "id": "d45541f7-01e1-4389-bad6-2d445d2dba00",
   "metadata": {},
   "outputs": [],
   "source": [
    "outputstring = \",\".join([str(item) for item in df.loc[0].values])\n"
   ]
  },
  {
   "cell_type": "code",
   "execution_count": 11,
   "id": "1b9fc68c-9285-4ef7-9932-e4256ad07037",
   "metadata": {},
   "outputs": [
    {
     "name": "stderr",
     "output_type": "stream",
     "text": [
      "\n",
      "KeyboardInterrupt\n",
      "\n"
     ]
    }
   ],
   "source": [
    "df = pd.read_csv(\"/datassd/hieunguyen/ECD/tumor_atlas_official/outputdir/02_output/Tissue_and_WBC/summary_of_all_ttest_results.csv\")"
   ]
  },
  {
   "cell_type": "code",
   "execution_count": null,
   "id": "1f24fa53-029d-40f4-8f3a-af99164024c1",
   "metadata": {},
   "outputs": [],
   "source": [
    "df"
   ]
  },
  {
   "cell_type": "code",
   "execution_count": 12,
   "id": "0f33a281-14fc-46a3-8564-2db3fcb07364",
   "metadata": {},
   "outputs": [],
   "source": [
    "df = pd.read_csv(\"/datassd/hieunguyen/ECD/tumor_atlas_official/outputdir_02102023/02_output/Tissue_and_WBC_and_Control/summary_of_all_ttest_results.csv\", header = None)"
   ]
  },
  {
   "cell_type": "code",
   "execution_count": 3,
   "id": "3e9650ad-b051-42e1-a61b-469041aa559f",
   "metadata": {},
   "outputs": [
    {
     "data": {
      "text/plain": [
       "'Z'"
      ]
     },
     "execution_count": 3,
     "metadata": {},
     "output_type": "execute_result"
    }
   ],
   "source": [
    "s = \"XM:Z:..xZ..hxZ.hxZ.hxZ....x...hx.........x....h.xZ.hh..x......hh.xZ.....x....x......h..Z.x\"\n",
    "\n",
    "s[87]"
   ]
  },
  {
   "cell_type": "code",
   "execution_count": 9,
   "id": "4bb1da8a-92d8-4320-8ba3-acc7324ef567",
   "metadata": {},
   "outputs": [],
   "source": [
    "# import pandas as pd\n",
    "# import numpy as np\n",
    "# import matplotlib.pyplot as plt\n",
    "# import seaborn as sns\n",
    "# import os\n",
    "# import argparse\n",
    "# import sys\n",
    "# import pathlib\n",
    "# from tqdm import tqdm\n",
    "# import re\n",
    "# pattern = re.compile(\"^[1-9][0-9]M\")\n",
    "# import warnings\n",
    "# warnings.filterwarnings(\"ignore\")\n",
    "# from helper_functions import *\n",
    "\n",
    "# region = \"1:900121-900207\"\n",
    "# path_to_main_output = \"./outputdir_02102023\"\n",
    "# path_to_metadata = \"metadata.csv\"\n",
    "# metadata = pd.read_csv(path_to_metadata)\n",
    "# atlas_sample_types = \"Tissue,WBC,Control\"\n",
    "# LOO_sample = 'not_given'\n",
    "\n",
    "# ##### MAIN\n",
    "# path_to_02_output = os.path.join(path_to_main_output, \"02_output\", atlas_sample_types.replace(\",\", \"_and_\"))\n",
    "# if (LOO_sample != \"not_given\" and LOO_sample in metadata.filename.unique()):\n",
    "#     path_to_02_output = os.path.join(path_to_main_output, \"02_output_LOO\", atlas_sample_types.replace(\",\", \"_and_\"))\n",
    "# os.system(\"mkdir -p {}\".format(path_to_02_output))\n",
    "\n",
    "# summ_test_file = os.path.join(path_to_02_output, \"summary_of_all_ttest_results.csv\")\n",
    "# if os.path.isfile(summ_test_file) == False:\n",
    "#     os.system(\"touch {}\".format(summ_test_file))\n",
    "#     # os.system(\"echo {} >> {}\".format(summ_file_columns[atlas_sample_types], summ_test_file))\n",
    "# region = region.replace(\":\", \"_\").replace(\"-\", \"_\")\n",
    "\n",
    "# region_chrom = region.split(\"_\")[0]\n",
    "# region_start = int(region.split(\"_\")[1])\n",
    "# region_end = int(region.split(\"_\")[2])\n",
    "\n",
    "# refseq_at_cluster = get_refseq(path_to_all_fa = path_to_all_fa, \n",
    "#                                 chrom = region_chrom, \n",
    "#                                 start = region_start, \n",
    "#                                 end = region_end + 1)\n",
    "# all_cpg_in_cluster = [m.start(0) for m in re.finditer(\"CG\", refseq_at_cluster)]\n",
    "# cpg_coords = [item + region_start for item in all_cpg_in_cluster]\n",
    "\n",
    "# if os.path.exists(os.path.join(path_to_02_output, \"ttest_res_tissue_and_wbc_samples_{}.csv\".format(region))) == False:\n",
    "#     df = pd.DataFrame()\n",
    "#     if \",\" in atlas_sample_types:\n",
    "#         selected_sample_types = atlas_sample_types.split(\",\")\n",
    "#         selected_metadata = metadata[metadata[\"Sample type\"].isin(selected_sample_types)]\n",
    "#         for sampletype in selected_sample_types:\n",
    "#             assert sampletype in [\"Tissue\", \"WBC\", \"cfDNA\", \"Control\"]\n",
    "#             tmpdf = pd.read_csv(os.path.join(readdf_dir[sampletype], \"read_at_region_{}.csv\".format(region)), index_col = [0])\n",
    "#             df = pd.concat([df, tmpdf], axis = 0)\n",
    "#     elif (atlas_sample_types == \"cfDNA\"):\n",
    "#         selected_sample_types = [\"cfDNA\", \"Control\"]\n",
    "#         selected_metadata = metadata[metadata[\"Sample type\"].isin(selected_sample_types)]\n",
    "#         for sampletype in selected_sample_types:\n",
    "#             assert sampletype in [\"Tissue\", \"WBC\", \"cfDNA\", \"Control\"]\n",
    "#             tmpdf = pd.read_csv(os.path.join(readdf_dir[sampletype], \"read_at_region_{}.csv\".format(region)), index_col = [0])\n",
    "#             df = pd.concat([df, tmpdf], axis = 0)\n",
    "#     else:\n",
    "#         assert atlas_sample_types in [\"Tissue\", \"WBC\", \"cfDNA\", \"Control\"]\n",
    "#         df = pd.read_csv(os.path.join(readdf_dir[atlas_sample_types], \"read_at_region_{}.csv\".format(region)), index_col = [0])\n",
    "#         selected_metadata = metadata[metadata[\"Sample type\"] == atlas_sample_types]\n",
    "    \n",
    "#     if (LOO_sample != \"not_given\" and LOO_sample in metadata.filename.unique()):\n",
    "#         df = df[df[\"Sample\"] != LOO_sample]\n",
    "    \n",
    "#     if df.shape[0] != 0:\n",
    "#         df[\"label\"] = df[\"sample\"].apply(lambda x: metadata[metadata[\"filename\"] == x][\"Label\"].unique()[0])\n",
    "        \n",
    "#         df[\"check_cigar\"] = df[\"cigar\"].apply(lambda x: bool(pattern.fullmatch(x)))\n",
    "#         df = df[df[\"check_cigar\"] == True]\n",
    "        \n",
    "#         df[\"Label\"] = df[\"sample\"].apply(lambda x: metadata[metadata[\"filename\"] == x][\"Label\"].unique()[0])\n",
    "                    \n",
    "#         df[\"end\"] = df[[\"start\", \"cigar\"]].apply(lambda x: int(x[0]) + int(x[1].replace(\"M\", \"\")), axis = 1)\n",
    "        \n",
    "#         for cpg_pos in cpg_coords:\n",
    "#             df[cpg_pos] = df[[\"start\", \"end\", \"seq\"]].apply(lambda x: get_CpG_status(x[0], x[1], x[2], cpg_pos, mode = \"num\"), axis = 1)\n",
    "        \n",
    "#         betadf = selected_metadata[[\"filename\"]].copy()\n",
    "#         betadf.columns = [\"sample\"]\n",
    "#         for cpg_pos in cpg_coords:    \n",
    "#             tmpdf = df[[\"sample\", cpg_pos, \"Label\"]].copy()\n",
    "#             tmpcountdf = tmpdf.groupby('sample')[cpg_pos].apply(lambda x: (x == 1).sum()/((x == 0).sum() + (x == 1).sum()) ).reset_index(name= \"meth_level_{}\".format(cpg_pos))\n",
    "#             betadf = betadf.merge(tmpcountdf[[\"sample\", \"meth_level_{}\".format(cpg_pos)]], right_on = \"sample\", left_on = \"sample\", how = \"outer\")\n",
    "                \n",
    "#         betadf[\"avg_beta\"] = betadf[[item for item in betadf.columns if item != \"sample\"]].apply(lambda x: np.mean([item for item in x if np.isnan(item) == False]), axis = 1)\n",
    "#         betadf[\"label\"] = betadf[\"sample\"].apply(lambda x: metadata[metadata[\"filename\"] == x][\"Label\"].unique()[0])\n",
    "#         import scipy\n",
    "#         tmpresdf = pd.DataFrame(data = [region], columns = [\"region\"])\n",
    "        \n",
    "#         for group in atlas_labels[atlas_sample_types]:\n",
    "#             target_group = betadf[betadf[\"label\"] == group].avg_beta.to_numpy()\n",
    "#             background_group = betadf[betadf[\"label\"] != group].avg_beta.to_numpy()\n",
    "#             target_group = [item for item in target_group if np.isnan(item) == False]\n",
    "#             background_group = [item for item in background_group if np.isnan(item) == False]\n",
    "#             pval = scipy.stats.ttest_ind(target_group, \n",
    "#                                  background_group).pvalue\n",
    "#             logFC = np.log2(0.0001 + (np.mean(target_group)/np.mean(background_group)))\n",
    "#             tmpresdf[\"{}_pval\".format(group)] = pval\n",
    "#             tmpresdf[\"{}_logFC\".format(group)] = logFC\n",
    "#         tmpresdf.to_csv(os.path.join(path_to_02_output, \"ttest_res_tissue_and_wbc_samples_{}.csv\".format(region)))\n",
    "#         outputstring = \",\".join([str(item) for item in tmpresdf.loc[0].values])\n",
    "#         os.system(\"echo {} >> {}\".format(outputstring, summ_test_file))\n",
    "\n",
    "# else:\n",
    "#     print(\"region {} is already in the output dir {} of sample_type {}\".format(region, path_to_02_output, atlas_sample_types))"
   ]
  },
  {
   "cell_type": "code",
   "execution_count": 10,
   "id": "7de8e624-294f-4c76-8001-ef4798404726",
   "metadata": {},
   "outputs": [
    {
     "data": {
      "text/html": [
       "<div>\n",
       "<style scoped>\n",
       "    .dataframe tbody tr th:only-of-type {\n",
       "        vertical-align: middle;\n",
       "    }\n",
       "\n",
       "    .dataframe tbody tr th {\n",
       "        vertical-align: top;\n",
       "    }\n",
       "\n",
       "    .dataframe thead th {\n",
       "        text-align: right;\n",
       "    }\n",
       "</style>\n",
       "<table border=\"1\" class=\"dataframe\">\n",
       "  <thead>\n",
       "    <tr style=\"text-align: right;\">\n",
       "      <th></th>\n",
       "      <th>region</th>\n",
       "      <th>Liver_pval</th>\n",
       "      <th>Liver_logFC</th>\n",
       "      <th>Breast_pval</th>\n",
       "      <th>Breast_logFC</th>\n",
       "      <th>Gastric_pval</th>\n",
       "      <th>Gastric_logFC</th>\n",
       "      <th>Lung_pval</th>\n",
       "      <th>Lung_logFC</th>\n",
       "      <th>CRC_pval</th>\n",
       "      <th>CRC_logFC</th>\n",
       "      <th>Control_pval</th>\n",
       "      <th>Control_logFC</th>\n",
       "      <th>WBC_pval</th>\n",
       "      <th>WBC_logFC</th>\n",
       "    </tr>\n",
       "  </thead>\n",
       "  <tbody>\n",
       "    <tr>\n",
       "      <th>0</th>\n",
       "      <td>1_900121_900207</td>\n",
       "      <td>NaN</td>\n",
       "      <td>0.022644</td>\n",
       "      <td>0.607922</td>\n",
       "      <td>0.024265</td>\n",
       "      <td>0.491069</td>\n",
       "      <td>0.026137</td>\n",
       "      <td>0.607922</td>\n",
       "      <td>0.024265</td>\n",
       "      <td>0.491069</td>\n",
       "      <td>0.026137</td>\n",
       "      <td>0.554076</td>\n",
       "      <td>-0.018131</td>\n",
       "      <td>0.10064</td>\n",
       "      <td>-0.06191</td>\n",
       "    </tr>\n",
       "  </tbody>\n",
       "</table>\n",
       "</div>"
      ],
      "text/plain": [
       "            region  Liver_pval  Liver_logFC  Breast_pval  Breast_logFC  \\\n",
       "0  1_900121_900207         NaN     0.022644     0.607922      0.024265   \n",
       "\n",
       "   Gastric_pval  Gastric_logFC  Lung_pval  Lung_logFC  CRC_pval  CRC_logFC  \\\n",
       "0      0.491069       0.026137   0.607922    0.024265  0.491069   0.026137   \n",
       "\n",
       "   Control_pval  Control_logFC  WBC_pval  WBC_logFC  \n",
       "0      0.554076      -0.018131   0.10064   -0.06191  "
      ]
     },
     "execution_count": 10,
     "metadata": {},
     "output_type": "execute_result"
    }
   ],
   "source": [
    "tmpresdf"
   ]
  }
 ],
 "metadata": {
  "kernelspec": {
   "display_name": "Python 3 (ipykernel)",
   "language": "python",
   "name": "python3"
  },
  "language_info": {
   "codemirror_mode": {
    "name": "ipython",
    "version": 3
   },
   "file_extension": ".py",
   "mimetype": "text/x-python",
   "name": "python",
   "nbconvert_exporter": "python",
   "pygments_lexer": "ipython3",
   "version": "3.8.12"
  }
 },
 "nbformat": 4,
 "nbformat_minor": 5
}
