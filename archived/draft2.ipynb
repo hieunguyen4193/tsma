{
 "cells": [
  {
   "cell_type": "code",
   "execution_count": 5,
   "id": "523b636b-6281-4bb8-a473-47cca3979dd1",
   "metadata": {},
   "outputs": [],
   "source": [
    "import pandas as pd\n",
    "\n",
    "import pathlib\n",
    "from tqdm import tqdm"
   ]
  },
  {
   "cell_type": "code",
   "execution_count": 21,
   "id": "84c3e419-e12b-4898-a0a5-cef76b5e4d7c",
   "metadata": {},
   "outputs": [
    {
     "name": "stderr",
     "output_type": "stream",
     "text": [
      "100%|█████████████████████████████████████████| 114/114 [00:01<00:00, 90.35it/s]\n"
     ]
    }
   ],
   "source": [
    "df = pd.read_csv(\"/datassd/hieunguyen/ECD/tumor_atlas_official/outputdir/02_output/Tissue/summary_of_all_ttest_results.csv\", header = None)\n",
    "\n",
    "path = \"/datassd/hieunguyen/ECD/tumor_atlas_official/datadir/CpG_clusters_whole_genome_radius_100_gt5_split_regions\"\n",
    "all_regions = [item for item in pathlib.Path(path).glob(\"*.split.regions\")]\n",
    "regions = []\n",
    "for file in tqdm(all_regions):\n",
    "    tmpdf = pd.read_csv(file, header = None)\n",
    "    regions += tmpdf[6].to_list()"
   ]
  },
  {
   "cell_type": "code",
   "execution_count": 23,
   "id": "3f41b962-d8d8-4832-9ba4-080cc1823bcb",
   "metadata": {},
   "outputs": [],
   "source": [
    "regions = [item.replace(\":\", \"_\").replace(\"-\", \"_\") for item in regions]"
   ]
  },
  {
   "cell_type": "code",
   "execution_count": 24,
   "id": "924dbd12-e630-4bf6-b49a-e1375b0f8207",
   "metadata": {},
   "outputs": [],
   "source": [
    "missing_Regions = set(regions) - set(df[0].to_list())"
   ]
  },
  {
   "cell_type": "code",
   "execution_count": 25,
   "id": "69ed5b0f-f145-43a9-b874-d5a5138b8f54",
   "metadata": {},
   "outputs": [
    {
     "data": {
      "text/plain": [
       "13253"
      ]
     },
     "execution_count": 25,
     "metadata": {},
     "output_type": "execute_result"
    }
   ],
   "source": [
    "len(missing_Regions)"
   ]
  },
  {
   "cell_type": "code",
   "execution_count": 27,
   "id": "cdae2214-69d9-4327-bbee-c1f977929016",
   "metadata": {},
   "outputs": [],
   "source": [
    "missing_Regions = [\"{}:{}-{}\".format(item.split(\"_\")[0], item.split(\"_\")[1], item.split(\"_\")[2]) for item in missing_Regions]"
   ]
  },
  {
   "cell_type": "code",
   "execution_count": 29,
   "id": "a16098b5-972f-43e8-bfff-43c329b4cf25",
   "metadata": {},
   "outputs": [],
   "source": [
    "pd.DataFrame(data = missing_Regions).to_csv(\"missing_regions_tissue_only.txt\", sep = \"\\t\", header = False, index = False)"
   ]
  },
  {
   "cell_type": "code",
   "execution_count": 30,
   "id": "8d665660-fd93-40d7-85f1-d2bc5cd1db4c",
   "metadata": {},
   "outputs": [
    {
     "data": {
      "text/plain": [
       "1136846"
      ]
     },
     "execution_count": 30,
     "metadata": {},
     "output_type": "execute_result"
    }
   ],
   "source": [
    "len(regions)"
   ]
  }
 ],
 "metadata": {
  "kernelspec": {
   "display_name": "Python 3 (ipykernel)",
   "language": "python",
   "name": "python3"
  },
  "language_info": {
   "codemirror_mode": {
    "name": "ipython",
    "version": 3
   },
   "file_extension": ".py",
   "mimetype": "text/x-python",
   "name": "python",
   "nbconvert_exporter": "python",
   "pygments_lexer": "ipython3",
   "version": "3.8.12"
  }
 },
 "nbformat": 4,
 "nbformat_minor": 5
}
