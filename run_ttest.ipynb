{
 "cells": [
  {
   "cell_type": "code",
   "execution_count": 20,
   "metadata": {
    "scrolled": true
   },
   "outputs": [],
   "source": [
    "import pandas as pd\n",
    "import numpy as np\n",
    "import pathlib\n",
    "from tqdm import tqdm\n",
    "import matplotlib.pyplot as plt\n",
    "import seaborn as sns\n",
    "import pysam\n",
    "import os\n",
    "import argparse\n",
    "import pyfaidx\n",
    "import sys\n",
    "import re\n",
    "import scipy\n",
    "\n",
    "from helper_functions import *\n",
    "# bamdir = \"/mnt/archiving/DATA_HIEUNHO/GW-bismark_cfDNA-highdepth_pair-end/04_bismark_deduplicated_sorted\"\n",
    "# region = \"1:1103264-1103363\"\n",
    "# path_to_all_fa = \"/datassd/hieunguyen/hg19\"\n",
    "# metadata = pd.read_csv(\"/mnt/DATASM14/hieunho/hieu_project/metadata/ECD/metadata_GW_highdepth.csv\")\n",
    "# bamfiles = [item for item in pathlib.Path(bamdir).glob(\"*.bam\") if str(item) in metadata.Bam_file.unique()]\n",
    "\n",
    "# print(\"Number of bam files in this location: {}\".format(len(bamfiles)))\n",
    "\n",
    "# outputdir = \"./outputs\"\n",
    "# os.system(\"mkdir -p {}\".format(outputdir))\n",
    "\n",
    "# betadf = generate_betadf(bamfiles = bamfiles, \n",
    "#                          region = region, \n",
    "#                          path_to_all_fa = path_to_all_fa, \n",
    "#                          outputdir = outputdir, \n",
    "#                          save_file =  True)\n",
    "\n",
    "metadata = pd.read_csv(\"metadata_GW_highdepth.csv\", index_col = [0])\n",
    "betadf = pd.read_csv(\"./outputs/1_1103264_1103363_beta_values.all_samples.csv\", index_col = [0])\n",
    "\n",
    "betadf[\"label\"] = betadf[\"sample\"].apply(lambda x: metadata[metadata[\"Filename\"] == x][\"Label\"].unique()[0])\n",
    "\n",
    "subset_metadata = dict()\n",
    "for sampletype in metadata.Sample_type.unique():\n",
    "    subset_metadata[sampletype] = list(metadata[metadata[\"Sample_type\"] == sampletype].Filename.unique())\n",
    "    \n",
    "# filter: keep tissue and wbc samples only. \n",
    "subset_betadf = betadf[betadf[\"sample\"].isin(subset_metadata[\"Tissue\"] + subset_metadata[\"WBC\"])]\n",
    "resdf = pd.DataFrame()\n",
    "for group in [item for item in metadata.Label.unique() if item != \"Control\"]:\n",
    "    target_group = subset_betadf[subset_betadf[\"label\"] == group].avg_beta.to_numpy()\n",
    "    background_group = subset_betadf[subset_betadf[\"label\"] != group].avg_beta.to_numpy()\n",
    "    target_group = [item for item in target_group if np.isnan(item) == False]\n",
    "    background_group = [item for item in background_group if np.isnan(item) == False]\n",
    "    pval = scipy.stats.ttest_ind(target_group, \n",
    "                            background_group).pvalue\n",
    "    logFC = np.log2(0.0001 + (np.mean(target_group)/np.mean(background_group))) # add 0.0001 to avoid log(0)\n",
    "    res = {\"group\": group, \"pval\": pval, \"logFC\": logFC}\n",
    "    tmpdf = pd.DataFrame.from_dict(res, orient = \"index\").T\n",
    "\n",
    "    resdf = pd.concat([resdf, tmpdf], axis = 0)"
   ]
  }
 ],
 "metadata": {
  "kernelspec": {
   "display_name": "Python 3 (ipykernel)",
   "language": "python",
   "name": "python3"
  },
  "language_info": {
   "codemirror_mode": {
    "name": "ipython",
    "version": 3
   },
   "file_extension": ".py",
   "mimetype": "text/x-python",
   "name": "python",
   "nbconvert_exporter": "python",
   "pygments_lexer": "ipython3",
   "version": "3.9.19"
  }
 },
 "nbformat": 4,
 "nbformat_minor": 4
}
